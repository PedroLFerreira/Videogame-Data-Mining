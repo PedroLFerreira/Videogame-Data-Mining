{
 "cells": [
  {
   "cell_type": "code",
   "execution_count": 1,
   "metadata": {},
   "outputs": [],
   "source": [
    "import pandas as pd\n",
    "import numpy as np\n",
    "import powerlaw\n",
    "import matplotlib\n",
    "import seaborn as sns\n",
    "import matplotlib.pyplot as plt\n",
    "#import xgboost as xgb\n",
    "import matplotlib.colors as mcolors\n",
    "%matplotlib inline"
   ]
  },
  {
   "cell_type": "code",
   "execution_count": 2,
   "metadata": {},
   "outputs": [
    {
     "data": {
      "text/html": [
       "<div>\n",
       "<style scoped>\n",
       "    .dataframe tbody tr th:only-of-type {\n",
       "        vertical-align: middle;\n",
       "    }\n",
       "\n",
       "    .dataframe tbody tr th {\n",
       "        vertical-align: top;\n",
       "    }\n",
       "\n",
       "    .dataframe thead th {\n",
       "        text-align: right;\n",
       "    }\n",
       "</style>\n",
       "<table border=\"1\" class=\"dataframe\">\n",
       "  <thead>\n",
       "    <tr style=\"text-align: right;\">\n",
       "      <th></th>\n",
       "      <th>Name</th>\n",
       "      <th>Platform</th>\n",
       "      <th>Year_of_Release</th>\n",
       "      <th>Genre</th>\n",
       "      <th>Publisher</th>\n",
       "      <th>NA_Sales</th>\n",
       "      <th>EU_Sales</th>\n",
       "      <th>JP_Sales</th>\n",
       "      <th>Other_Sales</th>\n",
       "      <th>Global_Sales</th>\n",
       "      <th>Critic_Score</th>\n",
       "      <th>Critic_Count</th>\n",
       "      <th>User_Score</th>\n",
       "      <th>User_Count</th>\n",
       "      <th>Developer</th>\n",
       "      <th>Rating</th>\n",
       "    </tr>\n",
       "  </thead>\n",
       "  <tbody>\n",
       "    <tr>\n",
       "      <th>0</th>\n",
       "      <td>Wii Sports</td>\n",
       "      <td>Wii</td>\n",
       "      <td>2006.0</td>\n",
       "      <td>Sports</td>\n",
       "      <td>Nintendo</td>\n",
       "      <td>41.36</td>\n",
       "      <td>28.96</td>\n",
       "      <td>3.77</td>\n",
       "      <td>8.45</td>\n",
       "      <td>82.53</td>\n",
       "      <td>76.0</td>\n",
       "      <td>51.0</td>\n",
       "      <td>8</td>\n",
       "      <td>322.0</td>\n",
       "      <td>Nintendo</td>\n",
       "      <td>E</td>\n",
       "    </tr>\n",
       "    <tr>\n",
       "      <th>1</th>\n",
       "      <td>Super Mario Bros.</td>\n",
       "      <td>NES</td>\n",
       "      <td>1985.0</td>\n",
       "      <td>Platform</td>\n",
       "      <td>Nintendo</td>\n",
       "      <td>29.08</td>\n",
       "      <td>3.58</td>\n",
       "      <td>6.81</td>\n",
       "      <td>0.77</td>\n",
       "      <td>40.24</td>\n",
       "      <td>NaN</td>\n",
       "      <td>NaN</td>\n",
       "      <td>NaN</td>\n",
       "      <td>NaN</td>\n",
       "      <td>NaN</td>\n",
       "      <td>NaN</td>\n",
       "    </tr>\n",
       "    <tr>\n",
       "      <th>2</th>\n",
       "      <td>Mario Kart Wii</td>\n",
       "      <td>Wii</td>\n",
       "      <td>2008.0</td>\n",
       "      <td>Racing</td>\n",
       "      <td>Nintendo</td>\n",
       "      <td>15.68</td>\n",
       "      <td>12.76</td>\n",
       "      <td>3.79</td>\n",
       "      <td>3.29</td>\n",
       "      <td>35.52</td>\n",
       "      <td>82.0</td>\n",
       "      <td>73.0</td>\n",
       "      <td>8.3</td>\n",
       "      <td>709.0</td>\n",
       "      <td>Nintendo</td>\n",
       "      <td>E</td>\n",
       "    </tr>\n",
       "    <tr>\n",
       "      <th>3</th>\n",
       "      <td>Wii Sports Resort</td>\n",
       "      <td>Wii</td>\n",
       "      <td>2009.0</td>\n",
       "      <td>Sports</td>\n",
       "      <td>Nintendo</td>\n",
       "      <td>15.61</td>\n",
       "      <td>10.93</td>\n",
       "      <td>3.28</td>\n",
       "      <td>2.95</td>\n",
       "      <td>32.77</td>\n",
       "      <td>80.0</td>\n",
       "      <td>73.0</td>\n",
       "      <td>8</td>\n",
       "      <td>192.0</td>\n",
       "      <td>Nintendo</td>\n",
       "      <td>E</td>\n",
       "    </tr>\n",
       "    <tr>\n",
       "      <th>4</th>\n",
       "      <td>Pokemon Red/Pokemon Blue</td>\n",
       "      <td>GB</td>\n",
       "      <td>1996.0</td>\n",
       "      <td>Role-Playing</td>\n",
       "      <td>Nintendo</td>\n",
       "      <td>11.27</td>\n",
       "      <td>8.89</td>\n",
       "      <td>10.22</td>\n",
       "      <td>1.00</td>\n",
       "      <td>31.37</td>\n",
       "      <td>NaN</td>\n",
       "      <td>NaN</td>\n",
       "      <td>NaN</td>\n",
       "      <td>NaN</td>\n",
       "      <td>NaN</td>\n",
       "      <td>NaN</td>\n",
       "    </tr>\n",
       "  </tbody>\n",
       "</table>\n",
       "</div>"
      ],
      "text/plain": [
       "                       Name Platform  Year_of_Release         Genre Publisher  \\\n",
       "0                Wii Sports      Wii           2006.0        Sports  Nintendo   \n",
       "1         Super Mario Bros.      NES           1985.0      Platform  Nintendo   \n",
       "2            Mario Kart Wii      Wii           2008.0        Racing  Nintendo   \n",
       "3         Wii Sports Resort      Wii           2009.0        Sports  Nintendo   \n",
       "4  Pokemon Red/Pokemon Blue       GB           1996.0  Role-Playing  Nintendo   \n",
       "\n",
       "   NA_Sales  EU_Sales  JP_Sales  Other_Sales  Global_Sales  Critic_Score  \\\n",
       "0     41.36     28.96      3.77         8.45         82.53          76.0   \n",
       "1     29.08      3.58      6.81         0.77         40.24           NaN   \n",
       "2     15.68     12.76      3.79         3.29         35.52          82.0   \n",
       "3     15.61     10.93      3.28         2.95         32.77          80.0   \n",
       "4     11.27      8.89     10.22         1.00         31.37           NaN   \n",
       "\n",
       "   Critic_Count User_Score  User_Count Developer Rating  \n",
       "0          51.0          8       322.0  Nintendo      E  \n",
       "1           NaN        NaN         NaN       NaN    NaN  \n",
       "2          73.0        8.3       709.0  Nintendo      E  \n",
       "3          73.0          8       192.0  Nintendo      E  \n",
       "4           NaN        NaN         NaN       NaN    NaN  "
      ]
     },
     "execution_count": 2,
     "metadata": {},
     "output_type": "execute_result"
    }
   ],
   "source": [
    "df = pd.read_csv('videogames.csv')  # Read raw data\n",
    "df.head()                           # First 5 rows in data"
   ]
  },
  {
   "cell_type": "code",
   "execution_count": 3,
   "metadata": {},
   "outputs": [
    {
     "name": "stdout",
     "output_type": "stream",
     "text": [
      "The data set includes 581 unique Publishers\n",
      "The data set includes 1696 unique Developers\n",
      "The data set includes 12 genres\n",
      "The data set includes 31 platforms\n"
     ]
    }
   ],
   "source": [
    "print('The data set includes {} unique Publishers'.format(df['Publisher'].nunique()))\n",
    "print('The data set includes {} unique Developers'.format(df['Developer'].nunique()))\n",
    "print('The data set includes {} genres'.format(df['Genre'].nunique()))\n",
    "print('The data set includes {} platforms'.format(df['Platform'].nunique()))"
   ]
  },
  {
   "cell_type": "code",
   "execution_count": 4,
   "metadata": {},
   "outputs": [
    {
     "name": "stdout",
     "output_type": "stream",
     "text": [
      "<class 'pandas.core.frame.DataFrame'>\n",
      "RangeIndex: 16719 entries, 0 to 16718\n",
      "Data columns (total 16 columns):\n",
      "Name               16717 non-null object\n",
      "Platform           16719 non-null object\n",
      "Year_of_Release    16450 non-null float64\n",
      "Genre              16717 non-null object\n",
      "Publisher          16665 non-null object\n",
      "NA_Sales           16719 non-null float64\n",
      "EU_Sales           16719 non-null float64\n",
      "JP_Sales           16719 non-null float64\n",
      "Other_Sales        16719 non-null float64\n",
      "Global_Sales       16719 non-null float64\n",
      "Critic_Score       8137 non-null float64\n",
      "Critic_Count       8137 non-null float64\n",
      "User_Score         10015 non-null object\n",
      "User_Count         7590 non-null float64\n",
      "Developer          10096 non-null object\n",
      "Rating             9950 non-null object\n",
      "dtypes: float64(9), object(7)\n",
      "memory usage: 2.0+ MB\n"
     ]
    }
   ],
   "source": [
    "df.info()  # Raw info"
   ]
  },
  {
   "cell_type": "code",
   "execution_count": 5,
   "metadata": {},
   "outputs": [
    {
     "name": "stdout",
     "output_type": "stream",
     "text": [
      "<class 'pandas.core.frame.DataFrame'>\n",
      "Int64Index: 6825 entries, 0 to 16706\n",
      "Data columns (total 16 columns):\n",
      "Name               6825 non-null object\n",
      "Platform           6825 non-null object\n",
      "Year_of_Release    6825 non-null float64\n",
      "Genre              6825 non-null object\n",
      "Publisher          6825 non-null object\n",
      "NA_Sales           6825 non-null float64\n",
      "EU_Sales           6825 non-null float64\n",
      "JP_Sales           6825 non-null float64\n",
      "Other_Sales        6825 non-null float64\n",
      "Global_Sales       6825 non-null float64\n",
      "Critic_Score       6825 non-null float64\n",
      "Critic_Count       6825 non-null float64\n",
      "User_Score         6825 non-null float64\n",
      "User_Count         6825 non-null float64\n",
      "Developer          6825 non-null object\n",
      "Rating             6825 non-null object\n",
      "dtypes: float64(10), object(6)\n",
      "memory usage: 906.4+ KB\n"
     ]
    }
   ],
   "source": [
    "df = df.dropna(axis=0, how='any')  # Eliminate rows if they contain any NaN value\n",
    "df['User_Score'] = df['User_Score'].astype(float)*10 # Convert User Score to double and normalize it to match Critic Score\n",
    "df.info()                          # Info without NaN values"
   ]
  },
  {
   "cell_type": "code",
   "execution_count": 6,
   "metadata": {},
   "outputs": [
    {
     "data": {
      "text/html": [
       "<div>\n",
       "<style scoped>\n",
       "    .dataframe tbody tr th:only-of-type {\n",
       "        vertical-align: middle;\n",
       "    }\n",
       "\n",
       "    .dataframe tbody tr th {\n",
       "        vertical-align: top;\n",
       "    }\n",
       "\n",
       "    .dataframe thead th {\n",
       "        text-align: right;\n",
       "    }\n",
       "</style>\n",
       "<table border=\"1\" class=\"dataframe\">\n",
       "  <thead>\n",
       "    <tr style=\"text-align: right;\">\n",
       "      <th></th>\n",
       "      <th>Year_of_Release</th>\n",
       "      <th>NA_Sales</th>\n",
       "      <th>EU_Sales</th>\n",
       "      <th>JP_Sales</th>\n",
       "      <th>Other_Sales</th>\n",
       "      <th>Global_Sales</th>\n",
       "      <th>Critic_Score</th>\n",
       "      <th>Critic_Count</th>\n",
       "      <th>User_Score</th>\n",
       "      <th>User_Count</th>\n",
       "    </tr>\n",
       "  </thead>\n",
       "  <tbody>\n",
       "    <tr>\n",
       "      <th>count</th>\n",
       "      <td>6825.000000</td>\n",
       "      <td>6825.000000</td>\n",
       "      <td>6825.000000</td>\n",
       "      <td>6825.000000</td>\n",
       "      <td>6825.000000</td>\n",
       "      <td>6825.000000</td>\n",
       "      <td>6825.000000</td>\n",
       "      <td>6825.000000</td>\n",
       "      <td>6825.000000</td>\n",
       "      <td>6825.000000</td>\n",
       "    </tr>\n",
       "    <tr>\n",
       "      <th>mean</th>\n",
       "      <td>2007.436777</td>\n",
       "      <td>0.394484</td>\n",
       "      <td>0.236089</td>\n",
       "      <td>0.064158</td>\n",
       "      <td>0.082677</td>\n",
       "      <td>0.777590</td>\n",
       "      <td>70.272088</td>\n",
       "      <td>28.931136</td>\n",
       "      <td>71.856264</td>\n",
       "      <td>174.722344</td>\n",
       "    </tr>\n",
       "    <tr>\n",
       "      <th>std</th>\n",
       "      <td>4.211248</td>\n",
       "      <td>0.967385</td>\n",
       "      <td>0.687330</td>\n",
       "      <td>0.287570</td>\n",
       "      <td>0.269871</td>\n",
       "      <td>1.963443</td>\n",
       "      <td>13.868572</td>\n",
       "      <td>19.224165</td>\n",
       "      <td>14.399417</td>\n",
       "      <td>587.428538</td>\n",
       "    </tr>\n",
       "    <tr>\n",
       "      <th>min</th>\n",
       "      <td>1985.000000</td>\n",
       "      <td>0.000000</td>\n",
       "      <td>0.000000</td>\n",
       "      <td>0.000000</td>\n",
       "      <td>0.000000</td>\n",
       "      <td>0.010000</td>\n",
       "      <td>13.000000</td>\n",
       "      <td>3.000000</td>\n",
       "      <td>5.000000</td>\n",
       "      <td>4.000000</td>\n",
       "    </tr>\n",
       "    <tr>\n",
       "      <th>25%</th>\n",
       "      <td>2004.000000</td>\n",
       "      <td>0.060000</td>\n",
       "      <td>0.020000</td>\n",
       "      <td>0.000000</td>\n",
       "      <td>0.010000</td>\n",
       "      <td>0.110000</td>\n",
       "      <td>62.000000</td>\n",
       "      <td>14.000000</td>\n",
       "      <td>65.000000</td>\n",
       "      <td>11.000000</td>\n",
       "    </tr>\n",
       "    <tr>\n",
       "      <th>50%</th>\n",
       "      <td>2007.000000</td>\n",
       "      <td>0.150000</td>\n",
       "      <td>0.060000</td>\n",
       "      <td>0.000000</td>\n",
       "      <td>0.020000</td>\n",
       "      <td>0.290000</td>\n",
       "      <td>72.000000</td>\n",
       "      <td>25.000000</td>\n",
       "      <td>75.000000</td>\n",
       "      <td>27.000000</td>\n",
       "    </tr>\n",
       "    <tr>\n",
       "      <th>75%</th>\n",
       "      <td>2011.000000</td>\n",
       "      <td>0.390000</td>\n",
       "      <td>0.210000</td>\n",
       "      <td>0.010000</td>\n",
       "      <td>0.070000</td>\n",
       "      <td>0.750000</td>\n",
       "      <td>80.000000</td>\n",
       "      <td>39.000000</td>\n",
       "      <td>82.000000</td>\n",
       "      <td>89.000000</td>\n",
       "    </tr>\n",
       "    <tr>\n",
       "      <th>max</th>\n",
       "      <td>2016.000000</td>\n",
       "      <td>41.360000</td>\n",
       "      <td>28.960000</td>\n",
       "      <td>6.500000</td>\n",
       "      <td>10.570000</td>\n",
       "      <td>82.530000</td>\n",
       "      <td>98.000000</td>\n",
       "      <td>113.000000</td>\n",
       "      <td>96.000000</td>\n",
       "      <td>10665.000000</td>\n",
       "    </tr>\n",
       "  </tbody>\n",
       "</table>\n",
       "</div>"
      ],
      "text/plain": [
       "       Year_of_Release     NA_Sales     EU_Sales     JP_Sales  Other_Sales  \\\n",
       "count      6825.000000  6825.000000  6825.000000  6825.000000  6825.000000   \n",
       "mean       2007.436777     0.394484     0.236089     0.064158     0.082677   \n",
       "std           4.211248     0.967385     0.687330     0.287570     0.269871   \n",
       "min        1985.000000     0.000000     0.000000     0.000000     0.000000   \n",
       "25%        2004.000000     0.060000     0.020000     0.000000     0.010000   \n",
       "50%        2007.000000     0.150000     0.060000     0.000000     0.020000   \n",
       "75%        2011.000000     0.390000     0.210000     0.010000     0.070000   \n",
       "max        2016.000000    41.360000    28.960000     6.500000    10.570000   \n",
       "\n",
       "       Global_Sales  Critic_Score  Critic_Count   User_Score    User_Count  \n",
       "count   6825.000000   6825.000000   6825.000000  6825.000000   6825.000000  \n",
       "mean       0.777590     70.272088     28.931136    71.856264    174.722344  \n",
       "std        1.963443     13.868572     19.224165    14.399417    587.428538  \n",
       "min        0.010000     13.000000      3.000000     5.000000      4.000000  \n",
       "25%        0.110000     62.000000     14.000000    65.000000     11.000000  \n",
       "50%        0.290000     72.000000     25.000000    75.000000     27.000000  \n",
       "75%        0.750000     80.000000     39.000000    82.000000     89.000000  \n",
       "max       82.530000     98.000000    113.000000    96.000000  10665.000000  "
      ]
     },
     "execution_count": 6,
     "metadata": {},
     "output_type": "execute_result"
    }
   ],
   "source": [
    "df.describe()"
   ]
  },
  {
   "cell_type": "markdown",
   "metadata": {},
   "source": [
    "### Scores"
   ]
  },
  {
   "cell_type": "code",
   "execution_count": 7,
   "metadata": {},
   "outputs": [
    {
     "data": {
      "image/png": "[encoded data removed]",
      "text/plain": [
       "<matplotlib.figure.Figure at 0x23b02498e10>"
      ]
     },
     "metadata": {},
     "output_type": "display_data"
    }
   ],
   "source": [
    "sns.distplot(df['Critic_Score'], label='Crititc Score')\n",
    "sns.distplot(df['User_Score'], label='User Score')\n",
    "plt.legend()\n",
    "plt.show()"
   ]
  },
  {
   "cell_type": "code",
   "execution_count": 8,
   "metadata": {
    "scrolled": false
   },
   "outputs": [
    {
     "data": {
      "text/plain": [
       "<seaborn.axisgrid.JointGrid at 0x23b028e9e80>"
      ]
     },
     "execution_count": 8,
     "metadata": {},
     "output_type": "execute_result"
    },
    {
     "data": {
      "image/png": "[encoded data removed]",
      "text/plain": [
       "<matplotlib.figure.Figure at 0x23b028f4748>"
      ]
     },
     "metadata": {},
     "output_type": "display_data"
    }
   ],
   "source": [
    "plot = sns.jointplot(x=\"User_Score\", y=\"Critic_Score\", data=df, kind=\"kde\", stat_func=None, xlim=(-1,101), ylim=(5,101))\n",
    "plot.set_axis_labels('User Score', 'Critic Score')"
   ]
  },
  {
   "cell_type": "markdown",
   "metadata": {},
   "source": [
    "### Popular Genre"
   ]
  },
  {
   "cell_type": "code",
   "execution_count": 9,
   "metadata": {},
   "outputs": [
    {
     "name": "stdout",
     "output_type": "stream",
     "text": [
      "      Action has 1203.16 million sales and 1630 entries in the database\n",
      "      Sports has  833.85 million sales and  943 entries in the database\n",
      "     Shooter has  816.48 million sales and  864 entries in the database\n",
      "Role-Playing has  501.37 million sales and  712 entries in the database\n",
      "      Racing has  476.22 million sales and  581 entries in the database\n",
      "    Platform has  377.80 million sales and  403 entries in the database\n",
      "    Fighting has  249.95 million sales and  378 entries in the database\n",
      "  Simulation has  202.70 million sales and  297 entries in the database\n",
      "   Adventure has   80.75 million sales and  248 entries in the database\n",
      "      Puzzle has   78.90 million sales and  118 entries in the database\n",
      "    Strategy has   69.61 million sales and  267 entries in the database\n",
      "        Misc has  416.26 million sales and  384 entries in the database\n"
     ]
    },
    {
     "data": {
      "image/png": "[encoded data removed]",
      "text/plain": [
       "<matplotlib.figure.Figure at 0x23b033717f0>"
      ]
     },
     "metadata": {},
     "output_type": "display_data"
    }
   ],
   "source": [
    "genres =['Action', 'Sports', 'Shooter', 'Role-Playing', 'Racing', 'Platform',\n",
    "         'Fighting', 'Simulation', 'Adventure', 'Puzzle', 'Strategy', 'Misc']\n",
    "\n",
    "sales = [np.sum(df['Global_Sales'][df['Genre'] == genre]) for genre in genres]\n",
    "count = np.array([df['Genre'].value_counts()[genre] for genre in genres])\n",
    "\n",
    "for genre in genres:\n",
    "    print('{:>12} has {:>7.2f} million sales and {:>4} entries in the database'.format(\n",
    "           genre,\n",
    "           np.sum(df['Global_Sales'][df['Genre'] == genre]),\n",
    "           df['Genre'].value_counts()[genre]))\n",
    "    \n",
    "plt.figure(figsize=(16/1.5,6))\n",
    "    \n",
    "# setup the normalization and the colormap\n",
    "normalize = mcolors.Normalize(vmin=0, vmax=count.max())\n",
    "colormap = plt.get_cmap('copper')\n",
    "\n",
    "# setup the colorbar\n",
    "scalarmappaple = plt.cm.ScalarMappable(norm=normalize, cmap=colormap)\n",
    "scalarmappaple.set_array(count)\n",
    "plt.colorbar(scalarmappaple, label = 'Entries in the database')\n",
    "\n",
    "plt.bar(range(len(genres)), sales, tick_label=genres, color=colormap(normalize(count)))\n",
    "plt.xticks(rotation=45, ha='right')\n",
    "plt.ylabel('Total sales (Milions)')\n",
    "plt.show()"
   ]
  },
  {
   "cell_type": "markdown",
   "metadata": {},
   "source": [
    "### Popular Platform"
   ]
  },
  {
   "cell_type": "code",
   "execution_count": 11,
   "metadata": {},
   "outputs": [
    {
     "name": "stdout",
     "output_type": "stream",
     "text": [
      " PS2 has  945.97 million sales and 1140 entries in the database\n",
      "X360 has  853.30 million sales and  858 entries in the database\n",
      " PS3 has  784.30 million sales and  769 entries in the database\n",
      " Wii has  658.98 million sales and  479 entries in the database\n",
      "  DS has  382.33 million sales and  464 entries in the database\n",
      " PS4 has  243.03 million sales and  239 entries in the database\n",
      "  XB has  212.07 million sales and  565 entries in the database\n",
      "  PS has  206.55 million sales and  150 entries in the database\n",
      " PSP has  187.92 million sales and  390 entries in the database\n",
      "  PC has  187.12 million sales and  651 entries in the database\n",
      "  GC has  159.42 million sales and  348 entries in the database\n",
      " GBA has  131.75 million sales and  237 entries in the database\n",
      "XOne has  129.57 million sales and  159 entries in the database\n",
      " 3DS has  123.23 million sales and  155 entries in the database\n",
      "WiiU has   66.08 million sales and   89 entries in the database\n",
      " PSV has   30.88 million sales and  118 entries in the database\n",
      "  DC has    4.55 million sales and   14 entries in the database\n"
     ]
    },
    {
     "data": {
      "image/png": "[encoded data removed]",
      "text/plain": [
       "<matplotlib.figure.Figure at 0x23b03572a20>"
      ]
     },
     "metadata": {},
     "output_type": "display_data"
    }
   ],
   "source": [
    "platforms = ['PS2', 'X360', 'PS3', 'Wii', 'DS', 'PS4', 'XB', 'PS', 'PSP', 'PC',\n",
    "            'GC', 'GBA', 'XOne', '3DS', 'WiiU', 'PSV', 'DC']\n",
    "\n",
    "sales = [np.sum(df['Global_Sales'][df['Platform'] == platform]) for platform in platforms]\n",
    "count = np.array([df['Platform'].value_counts()[platform] for platform in platforms])\n",
    "\n",
    "for platform in platforms:\n",
    "    print('{:>4} has {:>7.2f} million sales and {:>4} entries in the database'.format(\n",
    "           platform,\n",
    "           np.sum(df['Global_Sales'][df['Platform'] == platform]),\n",
    "           df['Platform'].value_counts()[platform]))\n",
    "    \n",
    "plt.figure(figsize=(16/1.5,6))\n",
    "    \n",
    "# setup the normalization and the colormap\n",
    "normalize = mcolors.Normalize(vmin=0, vmax=count.max())\n",
    "colormap = plt.get_cmap('copper')\n",
    "\n",
    "# setup the colorbar\n",
    "scalarmappaple = plt.cm.ScalarMappable(norm=normalize, cmap=colormap)\n",
    "scalarmappaple.set_array(count)\n",
    "plt.colorbar(scalarmappaple, label = 'Entries in the database')\n",
    "\n",
    "plt.bar(range(len(platforms)), sales, tick_label=platforms, color=colormap(normalize(count)))\n",
    "plt.xticks(rotation=45, ha='right')\n",
    "plt.ylabel('Total sales (Milions)')\n",
    "plt.show()"
   ]
  },
  {
   "cell_type": "markdown",
   "metadata": {},
   "source": [
    "### Years"
   ]
  },
  {
   "cell_type": "code",
   "execution_count": null,
   "metadata": {},
   "outputs": [],
   "source": [
    "years = sorted(df['Year_of_Release'].value_counts().index)\n",
    "sales = []\n",
    "\n",
    "for y in years:\n",
    "    sales.append(np.sum(df['Global_Sales'][df['Year_of_Release'] == y]))\n",
    "\n",
    "counts = df['Year_of_Release'].value_counts()\n",
    "colors = [counts[i] for i in years]\n",
    "\n",
    "plt.set_cmap('copper')\n",
    "plt.scatter(years, sales, c=colors)\n",
    "cb = plt.colorbar()\n",
    "plt.xlabel('Year of release')\n",
    "plt.ylabel('Total sales (Milions)')\n",
    "cb.set_label('Number of entries in the database')\n",
    "plt.show()"
   ]
  },
  {
   "cell_type": "markdown",
   "metadata": {},
   "source": [
    "### Region wise sales"
   ]
  },
  {
   "cell_type": "code",
   "execution_count": null,
   "metadata": {},
   "outputs": [],
   "source": [
    "def func(x):\n",
    "    a = zip(x.index, x.values)\n",
    "    a = np.array(sorted(a))\n",
    "    return a[:,0], np.cumsum(a[:,1])/len(df)"
   ]
  },
  {
   "cell_type": "code",
   "execution_count": null,
   "metadata": {},
   "outputs": [],
   "source": [
    "x = df['Global_Sales'].value_counts()\n",
    "plt.plot(*func(x), label='Global')\n",
    "x = df['NA_Sales'].value_counts()\n",
    "plt.plot(*func(x), label='NA')\n",
    "x = df['EU_Sales'].value_counts()\n",
    "plt.plot(*func(x), label='EU')\n",
    "x = df['JP_Sales'].value_counts()\n",
    "plt.plot(*func(x), label='JP')\n",
    "\n",
    "plt.xscale('log')\n",
    "#plt.yscale('log')\n",
    "plt.legend()\n",
    "plt.ylabel('Comulative Probability')\n",
    "plt.xlabel('Number of sales (Milions)')\n",
    "plt.show()"
   ]
  },
  {
   "cell_type": "code",
   "execution_count": null,
   "metadata": {},
   "outputs": [],
   "source": [
    "df['Ratio_NA'] = df['NA_Sales']/df['Global_Sales']\n",
    "df['Ratio_EU'] = df['EU_Sales']/df['Global_Sales']\n",
    "df['Ratio_JP'] = df['JP_Sales']/df['Global_Sales']\n",
    "df['Ratio_Other'] = df['Other_Sales']/df['Global_Sales']\n",
    "sns.jointplot(x=\"Ratio_NA\", y=\"Ratio_JP\", data=df, alpha=0.2)\n",
    "sns.jointplot(x=\"Ratio_NA\", y=\"Ratio_EU\", data=df, alpha=0.2)\n",
    "sns.jointplot(x=\"Ratio_EU\", y=\"Ratio_JP\", data=df, alpha=0.2)"
   ]
  },
  {
   "cell_type": "code",
   "execution_count": null,
   "metadata": {},
   "outputs": [],
   "source": [
    "sns.distplot(df['Ratio_NA'], label='NA', kde=False)\n",
    "sns.distplot(df['Ratio_EU'], label='EU', kde=False)\n",
    "sns.distplot(df['Ratio_JP'], label='JP', kde=False)\n",
    "sns.distplot(df['Ratio_Other'], label='Other', kde=False)\n",
    "plt.legend()\n",
    "plt.show()"
   ]
  },
  {
   "cell_type": "markdown",
   "metadata": {},
   "source": [
    "### Shit"
   ]
  },
  {
   "cell_type": "code",
   "execution_count": null,
   "metadata": {
    "scrolled": true
   },
   "outputs": [],
   "source": [
    "for g in genres:\n",
    "    plt.scatter(df['Critic_Score'][df['Genre'] == g], df['User_Score'][df['Genre'] == g], alpha=0.2)\n",
    "plt.show()"
   ]
  },
  {
   "cell_type": "code",
   "execution_count": null,
   "metadata": {},
   "outputs": [],
   "source": [
    "from sklearn.model_selection import train_test_split\n",
    "#df = df[df['Rating'] != 'AO']\n",
    "#df = df[df['Rating'] != 'K-A']\n",
    "#df = df[df['Rating'] != 'RP']\n",
    "classes = df['Platform']\n",
    "dropped = df[['Year_of_Release', 'NA_Sales',\n",
    "       'EU_Sales', 'JP_Sales', 'Other_Sales', 'Global_Sales', 'Critic_Score',\n",
    "       'Critic_Count', 'User_Score', 'User_Count']]\n",
    "\n",
    "from sklearn.discriminant_analysis import LinearDiscriminantAnalysis\n",
    "from sklearn.decomposition import PCA\n",
    "\n",
    "LDA = LinearDiscriminantAnalysis(n_components=7)\n",
    "PCA_ = PCA()\n",
    "new = PCA_.fit(dropped,classes).transform(dropped)\n",
    "\n",
    "x_train, x_test, y_train, y_test = train_test_split(dropped,classes,test_size=0.2, random_state=69)"
   ]
  },
  {
   "cell_type": "code",
   "execution_count": null,
   "metadata": {},
   "outputs": [],
   "source": [
    "df['Rating'].value_counts()"
   ]
  },
  {
   "cell_type": "code",
   "execution_count": null,
   "metadata": {},
   "outputs": [],
   "source": [
    "#print(PCA_.explained_variance_)\n",
    "#print(PCA_.explained_variance_ratio_)\n",
    "#print(LDA.explained_variance_ratio_)"
   ]
  },
  {
   "cell_type": "code",
   "execution_count": null,
   "metadata": {},
   "outputs": [],
   "source": [
    "from sklearn.ensemble import RandomForestClassifier, GradientBoostingClassifier\n",
    "from sklearn.naive_bayes import GaussianNB\n",
    "from sklearn.svm import SVC, LinearSVC\n",
    "from sklearn.neighbors import KNeighborsClassifier\n",
    "\n",
    "#model = KNeighborsClassifier(n_neighbors=4, algorithm='ball_tree')\n",
    "#model = SVC(decision_function_shape='ovr', kernel='linear', verbose=2) #slow and shit\n",
    "#model = GaussianNB()\n",
    "model = RandomForestClassifier(class_weight = 'balanced', criterion='entropy', n_estimators=100, n_jobs=-1)\n",
    "#model = xgb.XGBClassifier(max_depth=6, n_estimators=100, n_jobs=8)\n",
    "#model = GradientBoostingClassifier(max_depth=6, n_estimators=100)\n",
    "\n",
    "model.fit(x_train, y_train)"
   ]
  },
  {
   "cell_type": "code",
   "execution_count": null,
   "metadata": {},
   "outputs": [],
   "source": [
    "a = list(zip(['Year_of_Release', 'NA_Sales',\n",
    "       'EU_Sales', 'JP_Sales', 'Other_Sales', 'Global_Sales', 'Critic_Score',\n",
    "       'Critic_Count', 'User_Score', 'User_Count'],model.feature_importances_))\n",
    "sorted(a, key=lambda x: x[1], reverse=True)"
   ]
  },
  {
   "cell_type": "code",
   "execution_count": null,
   "metadata": {},
   "outputs": [],
   "source": [
    "import sys\n",
    "sys.path.insert(0, '../Data-Mining/')\n",
    "from tools import plot_confusion_matrix\n",
    "from sklearn.metrics import confusion_matrix, accuracy_score\n",
    "cm = confusion_matrix(y_test, model.predict(x_test))\n",
    "print(accuracy_score(y_test, model.predict(x_test)))\n",
    "print(cm)\n",
    "plot_confusion_matrix(cm, classes=model.classes_, title='Confusion Matrix')"
   ]
  },
  {
   "cell_type": "code",
   "execution_count": null,
   "metadata": {},
   "outputs": [],
   "source": [
    "from sklearn.grid_search import GridSearchCV\n",
    "from sklearn.metrics import make_scorer\n",
    "\n",
    "model = xgb.XGBClassifier()\n",
    "\n",
    "search = GridSearchCV(model, {'max_depth': list(range(7,9)), 'min_child_weight': [1, 2, 3, 5], 'gamma': [0.001, 0.01]}, n_jobs=4, verbose=2, scoring=make_scorer(accuracy_score))\n",
    "\n",
    "results = search.fit(x_train, y_train)"
   ]
  },
  {
   "cell_type": "code",
   "execution_count": null,
   "metadata": {},
   "outputs": [],
   "source": [
    "results.grid_scores_"
   ]
  },
  {
   "cell_type": "markdown",
   "metadata": {},
   "source": [
    "### Power Law failled attenpts"
   ]
  },
  {
   "cell_type": "code",
   "execution_count": null,
   "metadata": {},
   "outputs": [],
   "source": [
    "results = powerlaw.Fit(data=df['Global_Sales'])\n",
    "print(results.power_law.alpha)\n",
    "print(results.power_law.xmin)"
   ]
  },
  {
   "cell_type": "code",
   "execution_count": null,
   "metadata": {},
   "outputs": [],
   "source": [
    "x = df['Global_Sales'].value_counts()\n",
    "ax = plt.gca()\n",
    "results.plot_pdf(ax=ax)\n",
    "results.power_law.plot_pdf(ax=ax)\n",
    "\n",
    "smallx = x[x.index > results.power_law.xmin]\n",
    "\n",
    "print(np.sum(smallx.values))\n",
    "\n",
    "plt.scatter(x.index, x.values/np.sum(smallx.values)*100, alpha=0.2)\n",
    "\n",
    "#plt.xscale('log')\n",
    "#plt.yscale('log')\n",
    "plt.show()"
   ]
  }
 ],
 "metadata": {
  "kernelspec": {
   "display_name": "Python 3",
   "language": "python",
   "name": "python3"
  },
  "language_info": {
   "codemirror_mode": {
    "name": "ipython",
    "version": 3
   },
   "file_extension": ".py",
   "mimetype": "text/x-python",
   "name": "python",
   "nbconvert_exporter": "python",
   "pygments_lexer": "ipython3",
   "version": "3.6.1"
  }
 },
 "nbformat": 4,
 "nbformat_minor": 2
}
